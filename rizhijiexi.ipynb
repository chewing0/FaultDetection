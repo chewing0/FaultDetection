{
 "cells": [
  {
   "cell_type": "markdown",
   "id": "c7d57f0c",
   "metadata": {},
   "source": [
    "# 星网日志异常分析"
   ]
  },
  {
   "cell_type": "markdown",
   "id": "cbcba2cc",
   "metadata": {},
   "source": [
    "## 第一部分 星网日志流程分析\n",
    "1 协议流程的确定  \n",
    "2 主要分析的日志确定  \n",
    "\n",
    "1 两个文件联动  \n",
    "2 只分析协议流程"
   ]
  }
 ],
 "metadata": {
  "language_info": {
   "name": "python"
  }
 },
 "nbformat": 4,
 "nbformat_minor": 5
}
